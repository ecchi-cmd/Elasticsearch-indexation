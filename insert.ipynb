{
 "cells": [
  {
   "cell_type": "code",
   "execution_count": 7,
   "metadata": {},
   "outputs": [],
   "source": [
    "import numpy as np\n",
    "from pymongo import MongoClient\n",
    "from sklearn.cluster import KMeans\n"
   ]
  },
  {
   "cell_type": "code",
   "execution_count": 8,
   "metadata": {},
   "outputs": [],
   "source": [
    "#MongoDB!\n",
    "client=MongoClient('mongodb://localhost:27017/Photos')\n",
    "db=client.Photos\n",
    "collection=db.collection_En"
   ]
  },
  {
   "cell_type": "code",
   "execution_count": 9,
   "metadata": {},
   "outputs": [],
   "source": [
    "path='C:/Users/ASUS/Desktop/tebourbi/cbir2/eh_descriptors'\n",
    "table=[]\n",
    "for i in range (1):\n",
    "    with open(path+ '/'+'eh'+str(i+1)+'.txt','r') as f:\n",
    "        lines = f.readlines()\n",
    "        for j in lines:\n",
    "            table.append(j.split())\n",
    "arraytable=np.array(table)\n",
    "\n",
    "path='C:/Users/ASUS/Desktop/tebourbi/cbir2/ht_descriptors'\n",
    "table1=[]\n",
    "for i in range (1):\n",
    "    with open(path+ '/'+'ht'+str(i+1)+'.txt','r') as f:\n",
    "        lines = f.readlines()\n",
    "        for j in lines:\n",
    "            table1.append(j.split())       \n",
    "arraytable1=np.array(table1)\n",
    "X=np.zeros((len(table),193))\n",
    "for i in range(len(table)):\n",
    "    for j in range(len(table[i])):\n",
    "        X[i][j]=arraytable[i][j]\n",
    "\n",
    "    for j in range(len(table1[i])):\n",
    "        X[i][j+150]=arraytable1[i][j]\n"
   ]
  },
  {
   "cell_type": "code",
   "execution_count": 10,
   "metadata": {},
   "outputs": [],
   "source": [
    "Kmeans=KMeans(n_clusters=20).fit(X)\n",
    "Clusters=Kmeans.predict(X)\n",
    "centroids = Kmeans.cluster_centers_\n",
    "for k in range(0,1000):\n",
    "    cluster=str(Clusters[k])\n",
    "    line_DB={\"index\":k,\"edge_value\":table[k]+table1[k],\"cluster\":cluster}\n",
    "    collection.insert_one(line_DB)"
   ]
  },
  {
   "cell_type": "code",
   "execution_count": 11,
   "metadata": {},
   "outputs": [],
   "source": [
    "import os\n",
    "from flask import Flask, request, render_template\n",
    "from scipy.spatial import distance as dist\n",
    "from PIL import Image"
   ]
  },
  {
   "cell_type": "code",
   "execution_count": 6,
   "metadata": {},
   "outputs": [],
   "source": [
    "os.environ['CUDA_VISIBLE_DEVICES'] = ''\n",
    "\n",
    "\n",
    "#Distance \n",
    "\n",
    "def calcDistance(pic1,pic2):\n",
    "    result=float(0)\n",
    "    for i in range(0,len(pic1)):\n",
    "        result+=(float(pic1[i])-float(pic2[i]))**2\n",
    "    \n",
    "    return result\n"
   ]
  },
  {
   "cell_type": "code",
   "execution_count": null,
   "metadata": {},
   "outputs": [
    {
     "name": "stdout",
     "output_type": "stream",
     "text": [
      " * Serving Flask app \"__main__\" (lazy loading)\n",
      " * Environment: production\n",
      "   WARNING: This is a development server. Do not use it in a production deployment.\n",
      "   Use a production WSGI server instead.\n",
      " * Debug mode: off\n"
     ]
    },
    {
     "name": "stderr",
     "output_type": "stream",
     "text": [
      " * Running on http://127.0.0.1:5000/ (Press CTRL+C to quit)\n",
      "[2019-11-03 17:21:33,918] ERROR in app: Exception on / [GET]\n",
      "Traceback (most recent call last):\n",
      "  File \"C:\\Users\\ASUS\\Anaconda3\\lib\\site-packages\\flask\\app.py\", line 2446, in wsgi_app\n",
      "    response = self.full_dispatch_request()\n",
      "  File \"C:\\Users\\ASUS\\Anaconda3\\lib\\site-packages\\flask\\app.py\", line 1951, in full_dispatch_request\n",
      "    rv = self.handle_user_exception(e)\n",
      "  File \"C:\\Users\\ASUS\\Anaconda3\\lib\\site-packages\\flask\\app.py\", line 1820, in handle_user_exception\n",
      "    reraise(exc_type, exc_value, tb)\n",
      "  File \"C:\\Users\\ASUS\\Anaconda3\\lib\\site-packages\\flask\\_compat.py\", line 39, in reraise\n",
      "    raise value\n",
      "  File \"C:\\Users\\ASUS\\Anaconda3\\lib\\site-packages\\flask\\app.py\", line 1949, in full_dispatch_request\n",
      "    rv = self.dispatch_request()\n",
      "  File \"C:\\Users\\ASUS\\Anaconda3\\lib\\site-packages\\flask\\app.py\", line 1935, in dispatch_request\n",
      "    return self.view_functions[rule.endpoint](**req.view_args)\n",
      "  File \"<ipython-input-58-1143e59b947f>\", line 32, in index\n",
      "    return render_template('index.html')\n",
      "  File \"C:\\Users\\ASUS\\Anaconda3\\lib\\site-packages\\flask\\templating.py\", line 138, in render_template\n",
      "    ctx.app.jinja_env.get_or_select_template(template_name_or_list),\n",
      "  File \"C:\\Users\\ASUS\\Anaconda3\\lib\\site-packages\\jinja2\\environment.py\", line 869, in get_or_select_template\n",
      "    return self.get_template(template_name_or_list, parent, globals)\n",
      "  File \"C:\\Users\\ASUS\\Anaconda3\\lib\\site-packages\\jinja2\\environment.py\", line 830, in get_template\n",
      "    return self._load_template(name, self.make_globals(globals))\n",
      "  File \"C:\\Users\\ASUS\\Anaconda3\\lib\\site-packages\\jinja2\\environment.py\", line 804, in _load_template\n",
      "    template = self.loader.load(self, name, globals)\n",
      "  File \"C:\\Users\\ASUS\\Anaconda3\\lib\\site-packages\\jinja2\\loaders.py\", line 113, in load\n",
      "    source, filename, uptodate = self.get_source(environment, name)\n",
      "  File \"C:\\Users\\ASUS\\Anaconda3\\lib\\site-packages\\flask\\templating.py\", line 60, in get_source\n",
      "    return self._get_source_fast(environment, template)\n",
      "  File \"C:\\Users\\ASUS\\Anaconda3\\lib\\site-packages\\flask\\templating.py\", line 89, in _get_source_fast\n",
      "    raise TemplateNotFound(template)\n",
      "jinja2.exceptions.TemplateNotFound: index.html\n",
      "127.0.0.1 - - [03/Nov/2019 17:21:34] \"\u001b[1m\u001b[35mGET / HTTP/1.1\u001b[0m\" 500 -\n",
      "127.0.0.1 - - [03/Nov/2019 17:21:34] \"\u001b[33mGET /favicon.ico HTTP/1.1\u001b[0m\" 404 -\n"
     ]
    }
   ],
   "source": [
    "    \n",
    "app = Flask(__name__)\n",
    "@app.route('/', methods=['GET', 'POST'])\n",
    "def index():\n",
    "    client=MongoClient('mongodb://localhost:27017/Photos')\n",
    "    db=client.Photos\n",
    "    collection=db.collection_En\n",
    "    if request.method == 'POST':\n",
    "        file = request.files['query_img']\n",
    "        img = Image.open(file.stream)  \n",
    "        uploaded_img_path = \"thumbnails\" + file.filename\n",
    "        img.save(uploaded_img_path)\n",
    "        index = file.filename.split('.')[0]\n",
    "        index = int (index)\n",
    "        cluster=collection.find({\"index\":index})[0][\"cluster\"]\n",
    "        cluster_picture_edge=[]\n",
    "        for col in collection.find({\"cluster\":cluster}):\n",
    "            cluster_picture_edge.append(col)\n",
    "        similar_picture=[{\"result\":0,\"index\":cluster_picture_edge[0][\"index\"]}]\n",
    "        for k in range(1,len(cluster_picture_edge)):\n",
    "            result=calcDistance(cluster_picture_edge[0][\"edge_value\"],cluster_picture_edge[k][\"edge_value\"])\n",
    "            similar_picture.append({\"result\":result,\"index\":cluster_picture_edge[k][\"index\"]})\n",
    "        similar_picture=sorted(similar_picture,key=lambda x:x[\"result\"])\n",
    "        path='/thumbnails'\n",
    "        answers =[] \n",
    "        for j in range(1,len(similar_picture)):\n",
    "            if (j == 6): break\n",
    "            answers.append([path+'/'+str(similar_picture[j][\"index\"])+'.jpg',' '])\n",
    "\n",
    "        print(answers)\n",
    "        return render_template('index.html',query_path=uploaded_img_path,answers=answers)\n",
    "    else:\n",
    "        return render_template('index.html')\n",
    "\n",
    "if __name__==\"__main__\":\n",
    "\n",
    "    app.run(\"127.0.0.1\", debug=False)\n"
   ]
  },
  {
   "cell_type": "code",
   "execution_count": null,
   "metadata": {},
   "outputs": [],
   "source": []
  }
 ],
 "metadata": {
  "kernelspec": {
   "display_name": "Python 3",
   "language": "python",
   "name": "python3"
  },
  "language_info": {
   "codemirror_mode": {
    "name": "ipython",
    "version": 3
   },
   "file_extension": ".py",
   "mimetype": "text/x-python",
   "name": "python",
   "nbconvert_exporter": "python",
   "pygments_lexer": "ipython3",
   "version": "3.7.3"
  }
 },
 "nbformat": 4,
 "nbformat_minor": 4
}
